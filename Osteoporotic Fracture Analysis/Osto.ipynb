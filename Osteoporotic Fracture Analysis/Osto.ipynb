{
 "cells": [
  {
   "cell_type": "code",
   "execution_count": 1,
   "id": "89ad0b10",
   "metadata": {},
   "outputs": [],
   "source": [
    "import pandas as pd\n",
    "import numpy as np"
   ]
  },
  {
   "cell_type": "code",
   "execution_count": 2,
   "id": "93829961",
   "metadata": {},
   "outputs": [],
   "source": [
    "df = pd.read_csv(\"Dataset.csv\")"
   ]
  },
  {
   "cell_type": "code",
   "execution_count": 3,
   "id": "fb6f8c5e",
   "metadata": {},
   "outputs": [
    {
     "data": {
      "text/html": [
       "<div>\n",
       "<style scoped>\n",
       "    .dataframe tbody tr th:only-of-type {\n",
       "        vertical-align: middle;\n",
       "    }\n",
       "\n",
       "    .dataframe tbody tr th {\n",
       "        vertical-align: top;\n",
       "    }\n",
       "\n",
       "    .dataframe thead th {\n",
       "        text-align: right;\n",
       "    }\n",
       "</style>\n",
       "<table border=\"1\" class=\"dataframe\">\n",
       "  <thead>\n",
       "    <tr style=\"text-align: right;\">\n",
       "      <th></th>\n",
       "      <th>SI.NO</th>\n",
       "      <th>DATE</th>\n",
       "      <th>NAME</th>\n",
       "      <th>AGE</th>\n",
       "      <th>SEX</th>\n",
       "      <th>ASSO MEDICAL PROB</th>\n",
       "      <th>H/O INJURY/SURGERY</th>\n",
       "      <th>DRUG HISTORY</th>\n",
       "      <th>FREQUENCY</th>\n",
       "      <th>avg</th>\n",
       "    </tr>\n",
       "  </thead>\n",
       "  <tbody>\n",
       "    <tr>\n",
       "      <th>0</th>\n",
       "      <td>1</td>\n",
       "      <td>2/1/2017</td>\n",
       "      <td>PATIENT_1</td>\n",
       "      <td>29</td>\n",
       "      <td>Male</td>\n",
       "      <td>no</td>\n",
       "      <td>no</td>\n",
       "      <td>no</td>\n",
       "      <td>115, 115, 113</td>\n",
       "      <td>114.30</td>\n",
       "    </tr>\n",
       "    <tr>\n",
       "      <th>1</th>\n",
       "      <td>2</td>\n",
       "      <td>3/1/2017</td>\n",
       "      <td>PATIENT_2</td>\n",
       "      <td>36</td>\n",
       "      <td>Female</td>\n",
       "      <td>no</td>\n",
       "      <td>no</td>\n",
       "      <td>no</td>\n",
       "      <td>95,94,96</td>\n",
       "      <td>94.00</td>\n",
       "    </tr>\n",
       "    <tr>\n",
       "      <th>2</th>\n",
       "      <td>3</td>\n",
       "      <td>3/1/2017</td>\n",
       "      <td>PATIENT_3</td>\n",
       "      <td>37</td>\n",
       "      <td>Male</td>\n",
       "      <td>no</td>\n",
       "      <td>no</td>\n",
       "      <td>no</td>\n",
       "      <td>80,82,81</td>\n",
       "      <td>81.00</td>\n",
       "    </tr>\n",
       "    <tr>\n",
       "      <th>3</th>\n",
       "      <td>4</td>\n",
       "      <td>3/1/2017</td>\n",
       "      <td>PATIENT_4</td>\n",
       "      <td>37</td>\n",
       "      <td>Female</td>\n",
       "      <td>no</td>\n",
       "      <td>no</td>\n",
       "      <td>no</td>\n",
       "      <td>100, 101, 100</td>\n",
       "      <td>100.33</td>\n",
       "    </tr>\n",
       "    <tr>\n",
       "      <th>4</th>\n",
       "      <td>5</td>\n",
       "      <td>3/1/2017</td>\n",
       "      <td>PATIENT_5</td>\n",
       "      <td>38</td>\n",
       "      <td>female</td>\n",
       "      <td>no</td>\n",
       "      <td>no</td>\n",
       "      <td>no</td>\n",
       "      <td>99,100,100.40</td>\n",
       "      <td>99.80</td>\n",
       "    </tr>\n",
       "    <tr>\n",
       "      <th>...</th>\n",
       "      <td>...</td>\n",
       "      <td>...</td>\n",
       "      <td>...</td>\n",
       "      <td>...</td>\n",
       "      <td>...</td>\n",
       "      <td>...</td>\n",
       "      <td>...</td>\n",
       "      <td>...</td>\n",
       "      <td>...</td>\n",
       "      <td>...</td>\n",
       "    </tr>\n",
       "    <tr>\n",
       "      <th>995</th>\n",
       "      <td>996</td>\n",
       "      <td>12/29/2017</td>\n",
       "      <td>PATIENT_996</td>\n",
       "      <td>72</td>\n",
       "      <td>Male</td>\n",
       "      <td>no</td>\n",
       "      <td>no</td>\n",
       "      <td>no</td>\n",
       "      <td>68, 69, 68</td>\n",
       "      <td>68.30</td>\n",
       "    </tr>\n",
       "    <tr>\n",
       "      <th>996</th>\n",
       "      <td>997</td>\n",
       "      <td>12/29/2017</td>\n",
       "      <td>PATIENT_997</td>\n",
       "      <td>72</td>\n",
       "      <td>Male</td>\n",
       "      <td>Yes(Diabetes,Blockage in Heart)</td>\n",
       "      <td>shouler surgery</td>\n",
       "      <td>yes</td>\n",
       "      <td>69,70,71</td>\n",
       "      <td>70.00</td>\n",
       "    </tr>\n",
       "    <tr>\n",
       "      <th>997</th>\n",
       "      <td>998</td>\n",
       "      <td>12/31/2017</td>\n",
       "      <td>PATIENT_998</td>\n",
       "      <td>74</td>\n",
       "      <td>Female</td>\n",
       "      <td>yes(diabetes,bp)</td>\n",
       "      <td>knee surgery</td>\n",
       "      <td>yes</td>\n",
       "      <td>63,62,62.6</td>\n",
       "      <td>62.53</td>\n",
       "    </tr>\n",
       "    <tr>\n",
       "      <th>998</th>\n",
       "      <td>999</td>\n",
       "      <td>12/31/2017</td>\n",
       "      <td>PATIENT_999</td>\n",
       "      <td>76</td>\n",
       "      <td>Male</td>\n",
       "      <td>yes(diabetes,kidney stone)</td>\n",
       "      <td>no</td>\n",
       "      <td>no</td>\n",
       "      <td>62,61,62.5</td>\n",
       "      <td>61.83</td>\n",
       "    </tr>\n",
       "    <tr>\n",
       "      <th>999</th>\n",
       "      <td>1000</td>\n",
       "      <td>12/31/2017</td>\n",
       "      <td>PATIENT_1000</td>\n",
       "      <td>85</td>\n",
       "      <td>Male</td>\n",
       "      <td>yes (diabetes,heart blockage)</td>\n",
       "      <td>yes(open heart surgery)</td>\n",
       "      <td>yes</td>\n",
       "      <td>62,63,64</td>\n",
       "      <td>63.00</td>\n",
       "    </tr>\n",
       "  </tbody>\n",
       "</table>\n",
       "<p>1000 rows × 10 columns</p>\n",
       "</div>"
      ],
      "text/plain": [
       "     SI.NO        DATE          NAME  AGE     SEX  \\\n",
       "0        1    2/1/2017     PATIENT_1   29    Male   \n",
       "1        2    3/1/2017     PATIENT_2   36  Female   \n",
       "2        3    3/1/2017     PATIENT_3   37    Male   \n",
       "3        4    3/1/2017     PATIENT_4   37  Female   \n",
       "4        5    3/1/2017     PATIENT_5   38  female   \n",
       "..     ...         ...           ...  ...     ...   \n",
       "995    996  12/29/2017   PATIENT_996   72    Male   \n",
       "996    997  12/29/2017   PATIENT_997   72    Male   \n",
       "997    998  12/31/2017   PATIENT_998   74  Female   \n",
       "998    999  12/31/2017   PATIENT_999   76    Male   \n",
       "999   1000  12/31/2017  PATIENT_1000   85    Male   \n",
       "\n",
       "                   ASSO MEDICAL PROB       H/O INJURY/SURGERY DRUG HISTORY  \\\n",
       "0                                 no                       no           no   \n",
       "1                                 no                       no           no   \n",
       "2                                 no                       no           no   \n",
       "3                                 no                       no           no   \n",
       "4                                 no                       no           no   \n",
       "..                               ...                      ...          ...   \n",
       "995                               no                       no           no   \n",
       "996  Yes(Diabetes,Blockage in Heart)          shouler surgery          yes   \n",
       "997                 yes(diabetes,bp)             knee surgery          yes   \n",
       "998       yes(diabetes,kidney stone)                       no           no   \n",
       "999    yes (diabetes,heart blockage)  yes(open heart surgery)          yes   \n",
       "\n",
       "         FREQUENCY     avg  \n",
       "0    115, 115, 113  114.30  \n",
       "1         95,94,96   94.00  \n",
       "2         80,82,81   81.00  \n",
       "3    100, 101, 100  100.33  \n",
       "4    99,100,100.40   99.80  \n",
       "..             ...     ...  \n",
       "995     68, 69, 68   68.30  \n",
       "996       69,70,71   70.00  \n",
       "997     63,62,62.6   62.53  \n",
       "998     62,61,62.5   61.83  \n",
       "999       62,63,64   63.00  \n",
       "\n",
       "[1000 rows x 10 columns]"
      ]
     },
     "execution_count": 3,
     "metadata": {},
     "output_type": "execute_result"
    }
   ],
   "source": [
    "df"
   ]
  },
  {
   "cell_type": "code",
   "execution_count": 4,
   "id": "51816b11",
   "metadata": {},
   "outputs": [],
   "source": [
    "df.drop(['DATE','NAME','FREQUENCY'],axis =1,inplace = True)"
   ]
  },
  {
   "cell_type": "code",
   "execution_count": 5,
   "id": "51ad2049",
   "metadata": {},
   "outputs": [
    {
     "data": {
      "text/html": [
       "<div>\n",
       "<style scoped>\n",
       "    .dataframe tbody tr th:only-of-type {\n",
       "        vertical-align: middle;\n",
       "    }\n",
       "\n",
       "    .dataframe tbody tr th {\n",
       "        vertical-align: top;\n",
       "    }\n",
       "\n",
       "    .dataframe thead th {\n",
       "        text-align: right;\n",
       "    }\n",
       "</style>\n",
       "<table border=\"1\" class=\"dataframe\">\n",
       "  <thead>\n",
       "    <tr style=\"text-align: right;\">\n",
       "      <th></th>\n",
       "      <th>SI.NO</th>\n",
       "      <th>AGE</th>\n",
       "      <th>SEX</th>\n",
       "      <th>ASSO MEDICAL PROB</th>\n",
       "      <th>H/O INJURY/SURGERY</th>\n",
       "      <th>DRUG HISTORY</th>\n",
       "      <th>avg</th>\n",
       "    </tr>\n",
       "  </thead>\n",
       "  <tbody>\n",
       "    <tr>\n",
       "      <th>995</th>\n",
       "      <td>996</td>\n",
       "      <td>72</td>\n",
       "      <td>Male</td>\n",
       "      <td>no</td>\n",
       "      <td>no</td>\n",
       "      <td>no</td>\n",
       "      <td>68.30</td>\n",
       "    </tr>\n",
       "    <tr>\n",
       "      <th>996</th>\n",
       "      <td>997</td>\n",
       "      <td>72</td>\n",
       "      <td>Male</td>\n",
       "      <td>Yes(Diabetes,Blockage in Heart)</td>\n",
       "      <td>shouler surgery</td>\n",
       "      <td>yes</td>\n",
       "      <td>70.00</td>\n",
       "    </tr>\n",
       "    <tr>\n",
       "      <th>997</th>\n",
       "      <td>998</td>\n",
       "      <td>74</td>\n",
       "      <td>Female</td>\n",
       "      <td>yes(diabetes,bp)</td>\n",
       "      <td>knee surgery</td>\n",
       "      <td>yes</td>\n",
       "      <td>62.53</td>\n",
       "    </tr>\n",
       "    <tr>\n",
       "      <th>998</th>\n",
       "      <td>999</td>\n",
       "      <td>76</td>\n",
       "      <td>Male</td>\n",
       "      <td>yes(diabetes,kidney stone)</td>\n",
       "      <td>no</td>\n",
       "      <td>no</td>\n",
       "      <td>61.83</td>\n",
       "    </tr>\n",
       "    <tr>\n",
       "      <th>999</th>\n",
       "      <td>1000</td>\n",
       "      <td>85</td>\n",
       "      <td>Male</td>\n",
       "      <td>yes (diabetes,heart blockage)</td>\n",
       "      <td>yes(open heart surgery)</td>\n",
       "      <td>yes</td>\n",
       "      <td>63.00</td>\n",
       "    </tr>\n",
       "  </tbody>\n",
       "</table>\n",
       "</div>"
      ],
      "text/plain": [
       "     SI.NO  AGE     SEX                ASSO MEDICAL PROB  \\\n",
       "995    996   72    Male                               no   \n",
       "996    997   72    Male  Yes(Diabetes,Blockage in Heart)   \n",
       "997    998   74  Female                 yes(diabetes,bp)   \n",
       "998    999   76    Male       yes(diabetes,kidney stone)   \n",
       "999   1000   85    Male    yes (diabetes,heart blockage)   \n",
       "\n",
       "          H/O INJURY/SURGERY DRUG HISTORY    avg  \n",
       "995                       no           no  68.30  \n",
       "996          shouler surgery          yes  70.00  \n",
       "997             knee surgery          yes  62.53  \n",
       "998                       no           no  61.83  \n",
       "999  yes(open heart surgery)          yes  63.00  "
      ]
     },
     "execution_count": 5,
     "metadata": {},
     "output_type": "execute_result"
    }
   ],
   "source": [
    "df.tail()\n"
   ]
  },
  {
   "cell_type": "code",
   "execution_count": 6,
   "id": "283895f8",
   "metadata": {},
   "outputs": [
    {
     "data": {
      "text/html": [
       "<div>\n",
       "<style scoped>\n",
       "    .dataframe tbody tr th:only-of-type {\n",
       "        vertical-align: middle;\n",
       "    }\n",
       "\n",
       "    .dataframe tbody tr th {\n",
       "        vertical-align: top;\n",
       "    }\n",
       "\n",
       "    .dataframe thead th {\n",
       "        text-align: right;\n",
       "    }\n",
       "</style>\n",
       "<table border=\"1\" class=\"dataframe\">\n",
       "  <thead>\n",
       "    <tr style=\"text-align: right;\">\n",
       "      <th></th>\n",
       "      <th>SI.NO</th>\n",
       "      <th>AGE</th>\n",
       "      <th>SEX</th>\n",
       "      <th>ASSO MEDICAL PROB</th>\n",
       "      <th>H/O INJURY/SURGERY</th>\n",
       "      <th>DRUG HISTORY</th>\n",
       "      <th>avg</th>\n",
       "    </tr>\n",
       "  </thead>\n",
       "  <tbody>\n",
       "    <tr>\n",
       "      <th>0</th>\n",
       "      <td>1</td>\n",
       "      <td>29</td>\n",
       "      <td>Male</td>\n",
       "      <td>no</td>\n",
       "      <td>no</td>\n",
       "      <td>no</td>\n",
       "      <td>114.30</td>\n",
       "    </tr>\n",
       "    <tr>\n",
       "      <th>1</th>\n",
       "      <td>2</td>\n",
       "      <td>36</td>\n",
       "      <td>Female</td>\n",
       "      <td>no</td>\n",
       "      <td>no</td>\n",
       "      <td>no</td>\n",
       "      <td>94.00</td>\n",
       "    </tr>\n",
       "    <tr>\n",
       "      <th>2</th>\n",
       "      <td>3</td>\n",
       "      <td>37</td>\n",
       "      <td>Male</td>\n",
       "      <td>no</td>\n",
       "      <td>no</td>\n",
       "      <td>no</td>\n",
       "      <td>81.00</td>\n",
       "    </tr>\n",
       "    <tr>\n",
       "      <th>3</th>\n",
       "      <td>4</td>\n",
       "      <td>37</td>\n",
       "      <td>Female</td>\n",
       "      <td>no</td>\n",
       "      <td>no</td>\n",
       "      <td>no</td>\n",
       "      <td>100.33</td>\n",
       "    </tr>\n",
       "    <tr>\n",
       "      <th>4</th>\n",
       "      <td>5</td>\n",
       "      <td>38</td>\n",
       "      <td>female</td>\n",
       "      <td>no</td>\n",
       "      <td>no</td>\n",
       "      <td>no</td>\n",
       "      <td>99.80</td>\n",
       "    </tr>\n",
       "  </tbody>\n",
       "</table>\n",
       "</div>"
      ],
      "text/plain": [
       "   SI.NO  AGE     SEX ASSO MEDICAL PROB H/O INJURY/SURGERY DRUG HISTORY  \\\n",
       "0      1   29    Male                no                 no           no   \n",
       "1      2   36  Female                no                 no           no   \n",
       "2      3   37    Male                no                 no           no   \n",
       "3      4   37  Female                no                 no           no   \n",
       "4      5   38  female                no                 no           no   \n",
       "\n",
       "      avg  \n",
       "0  114.30  \n",
       "1   94.00  \n",
       "2   81.00  \n",
       "3  100.33  \n",
       "4   99.80  "
      ]
     },
     "execution_count": 6,
     "metadata": {},
     "output_type": "execute_result"
    }
   ],
   "source": [
    "df.head()"
   ]
  },
  {
   "cell_type": "code",
   "execution_count": 7,
   "id": "c6827f03",
   "metadata": {},
   "outputs": [
    {
     "data": {
      "text/html": [
       "<div>\n",
       "<style scoped>\n",
       "    .dataframe tbody tr th:only-of-type {\n",
       "        vertical-align: middle;\n",
       "    }\n",
       "\n",
       "    .dataframe tbody tr th {\n",
       "        vertical-align: top;\n",
       "    }\n",
       "\n",
       "    .dataframe thead th {\n",
       "        text-align: right;\n",
       "    }\n",
       "</style>\n",
       "<table border=\"1\" class=\"dataframe\">\n",
       "  <thead>\n",
       "    <tr style=\"text-align: right;\">\n",
       "      <th></th>\n",
       "      <th>SI.NO</th>\n",
       "      <th>AGE</th>\n",
       "      <th>avg</th>\n",
       "    </tr>\n",
       "  </thead>\n",
       "  <tbody>\n",
       "    <tr>\n",
       "      <th>count</th>\n",
       "      <td>1000.000000</td>\n",
       "      <td>1000.000000</td>\n",
       "      <td>1000.000000</td>\n",
       "    </tr>\n",
       "    <tr>\n",
       "      <th>mean</th>\n",
       "      <td>500.500000</td>\n",
       "      <td>56.520000</td>\n",
       "      <td>78.346700</td>\n",
       "    </tr>\n",
       "    <tr>\n",
       "      <th>std</th>\n",
       "      <td>288.819436</td>\n",
       "      <td>12.390445</td>\n",
       "      <td>12.431321</td>\n",
       "    </tr>\n",
       "    <tr>\n",
       "      <th>min</th>\n",
       "      <td>1.000000</td>\n",
       "      <td>29.000000</td>\n",
       "      <td>61.330000</td>\n",
       "    </tr>\n",
       "    <tr>\n",
       "      <th>25%</th>\n",
       "      <td>250.750000</td>\n",
       "      <td>45.000000</td>\n",
       "      <td>69.000000</td>\n",
       "    </tr>\n",
       "    <tr>\n",
       "      <th>50%</th>\n",
       "      <td>500.500000</td>\n",
       "      <td>56.500000</td>\n",
       "      <td>76.416500</td>\n",
       "    </tr>\n",
       "    <tr>\n",
       "      <th>75%</th>\n",
       "      <td>750.250000</td>\n",
       "      <td>67.000000</td>\n",
       "      <td>88.330000</td>\n",
       "    </tr>\n",
       "    <tr>\n",
       "      <th>max</th>\n",
       "      <td>1000.000000</td>\n",
       "      <td>85.000000</td>\n",
       "      <td>114.300000</td>\n",
       "    </tr>\n",
       "  </tbody>\n",
       "</table>\n",
       "</div>"
      ],
      "text/plain": [
       "             SI.NO          AGE          avg\n",
       "count  1000.000000  1000.000000  1000.000000\n",
       "mean    500.500000    56.520000    78.346700\n",
       "std     288.819436    12.390445    12.431321\n",
       "min       1.000000    29.000000    61.330000\n",
       "25%     250.750000    45.000000    69.000000\n",
       "50%     500.500000    56.500000    76.416500\n",
       "75%     750.250000    67.000000    88.330000\n",
       "max    1000.000000    85.000000   114.300000"
      ]
     },
     "execution_count": 7,
     "metadata": {},
     "output_type": "execute_result"
    }
   ],
   "source": [
    "df.describe()"
   ]
  },
  {
   "cell_type": "code",
   "execution_count": 8,
   "id": "ec615eb8",
   "metadata": {},
   "outputs": [
    {
     "data": {
      "text/plain": [
       "SI.NO                 0\n",
       "AGE                   0\n",
       "SEX                   0\n",
       "ASSO MEDICAL PROB     0\n",
       "H/O INJURY/SURGERY    0\n",
       "DRUG HISTORY          0\n",
       "avg                   0\n",
       "dtype: int64"
      ]
     },
     "execution_count": 8,
     "metadata": {},
     "output_type": "execute_result"
    }
   ],
   "source": [
    "df.isnull().sum()"
   ]
  },
  {
   "cell_type": "code",
   "execution_count": 9,
   "id": "e8db22f3",
   "metadata": {},
   "outputs": [
    {
     "data": {
      "text/plain": [
       "Index(['SI.NO', 'AGE', 'SEX', 'ASSO MEDICAL PROB', 'H/O INJURY/SURGERY',\n",
       "       'DRUG HISTORY', 'avg'],\n",
       "      dtype='object')"
      ]
     },
     "execution_count": 9,
     "metadata": {},
     "output_type": "execute_result"
    }
   ],
   "source": [
    "df.columns"
   ]
  },
  {
   "cell_type": "code",
   "execution_count": 10,
   "id": "10cf2856",
   "metadata": {},
   "outputs": [],
   "source": [
    "df['SEX']=df['SEX'].map({'Male':1,'Female':0,'female':0,'male':1})\n",
    "df['ASSO MEDICAL PROB']=df['ASSO MEDICAL PROB'].map({'no':0,'No':0,'yes(diabetes)':1,'yes (diabetes)':1,'yes(bp)':2,'kidney stone':3,'yes(increase in heart rate)':4,'Yes(Diabetes,bp)':5,'yes(bp dabetes)':5,'yes(diabetes,bp)':5,'Yes(Diabetes,Blockage in Heart)':6,'yes (diabetes,heart blockage)':6,'yes(diabetes,kidney stone)':7})\n",
    "df['H/O INJURY/SURGERY']=df['H/O INJURY/SURGERY'].map({'no':0,'vericose vein surgery':1,'uteres removal':2,'kidney stone opreration':3,'uterus surgery':4,'yes(diverticulities)':5,'shouler surgery':6,'knee surgery':7,'yes(open heart surgery)':8})\n",
    "df['DRUG HISTORY']=df['DRUG HISTORY'].map({'no':0,'yes':1,'yes(ecosprin)':2})"
   ]
  },
  {
   "cell_type": "code",
   "execution_count": 11,
   "id": "a96f772c",
   "metadata": {},
   "outputs": [
    {
     "data": {
      "text/html": [
       "<div>\n",
       "<style scoped>\n",
       "    .dataframe tbody tr th:only-of-type {\n",
       "        vertical-align: middle;\n",
       "    }\n",
       "\n",
       "    .dataframe tbody tr th {\n",
       "        vertical-align: top;\n",
       "    }\n",
       "\n",
       "    .dataframe thead th {\n",
       "        text-align: right;\n",
       "    }\n",
       "</style>\n",
       "<table border=\"1\" class=\"dataframe\">\n",
       "  <thead>\n",
       "    <tr style=\"text-align: right;\">\n",
       "      <th></th>\n",
       "      <th>SI.NO</th>\n",
       "      <th>AGE</th>\n",
       "      <th>SEX</th>\n",
       "      <th>ASSO MEDICAL PROB</th>\n",
       "      <th>H/O INJURY/SURGERY</th>\n",
       "      <th>DRUG HISTORY</th>\n",
       "      <th>avg</th>\n",
       "    </tr>\n",
       "  </thead>\n",
       "  <tbody>\n",
       "    <tr>\n",
       "      <th>0</th>\n",
       "      <td>1</td>\n",
       "      <td>29</td>\n",
       "      <td>1</td>\n",
       "      <td>0</td>\n",
       "      <td>0</td>\n",
       "      <td>0</td>\n",
       "      <td>114.30</td>\n",
       "    </tr>\n",
       "    <tr>\n",
       "      <th>1</th>\n",
       "      <td>2</td>\n",
       "      <td>36</td>\n",
       "      <td>0</td>\n",
       "      <td>0</td>\n",
       "      <td>0</td>\n",
       "      <td>0</td>\n",
       "      <td>94.00</td>\n",
       "    </tr>\n",
       "    <tr>\n",
       "      <th>2</th>\n",
       "      <td>3</td>\n",
       "      <td>37</td>\n",
       "      <td>1</td>\n",
       "      <td>0</td>\n",
       "      <td>0</td>\n",
       "      <td>0</td>\n",
       "      <td>81.00</td>\n",
       "    </tr>\n",
       "    <tr>\n",
       "      <th>3</th>\n",
       "      <td>4</td>\n",
       "      <td>37</td>\n",
       "      <td>0</td>\n",
       "      <td>0</td>\n",
       "      <td>0</td>\n",
       "      <td>0</td>\n",
       "      <td>100.33</td>\n",
       "    </tr>\n",
       "    <tr>\n",
       "      <th>4</th>\n",
       "      <td>5</td>\n",
       "      <td>38</td>\n",
       "      <td>0</td>\n",
       "      <td>0</td>\n",
       "      <td>0</td>\n",
       "      <td>0</td>\n",
       "      <td>99.80</td>\n",
       "    </tr>\n",
       "    <tr>\n",
       "      <th>...</th>\n",
       "      <td>...</td>\n",
       "      <td>...</td>\n",
       "      <td>...</td>\n",
       "      <td>...</td>\n",
       "      <td>...</td>\n",
       "      <td>...</td>\n",
       "      <td>...</td>\n",
       "    </tr>\n",
       "    <tr>\n",
       "      <th>995</th>\n",
       "      <td>996</td>\n",
       "      <td>72</td>\n",
       "      <td>1</td>\n",
       "      <td>0</td>\n",
       "      <td>0</td>\n",
       "      <td>0</td>\n",
       "      <td>68.30</td>\n",
       "    </tr>\n",
       "    <tr>\n",
       "      <th>996</th>\n",
       "      <td>997</td>\n",
       "      <td>72</td>\n",
       "      <td>1</td>\n",
       "      <td>6</td>\n",
       "      <td>6</td>\n",
       "      <td>1</td>\n",
       "      <td>70.00</td>\n",
       "    </tr>\n",
       "    <tr>\n",
       "      <th>997</th>\n",
       "      <td>998</td>\n",
       "      <td>74</td>\n",
       "      <td>0</td>\n",
       "      <td>5</td>\n",
       "      <td>7</td>\n",
       "      <td>1</td>\n",
       "      <td>62.53</td>\n",
       "    </tr>\n",
       "    <tr>\n",
       "      <th>998</th>\n",
       "      <td>999</td>\n",
       "      <td>76</td>\n",
       "      <td>1</td>\n",
       "      <td>7</td>\n",
       "      <td>0</td>\n",
       "      <td>0</td>\n",
       "      <td>61.83</td>\n",
       "    </tr>\n",
       "    <tr>\n",
       "      <th>999</th>\n",
       "      <td>1000</td>\n",
       "      <td>85</td>\n",
       "      <td>1</td>\n",
       "      <td>6</td>\n",
       "      <td>8</td>\n",
       "      <td>1</td>\n",
       "      <td>63.00</td>\n",
       "    </tr>\n",
       "  </tbody>\n",
       "</table>\n",
       "<p>1000 rows × 7 columns</p>\n",
       "</div>"
      ],
      "text/plain": [
       "     SI.NO  AGE  SEX  ASSO MEDICAL PROB  H/O INJURY/SURGERY  DRUG HISTORY  \\\n",
       "0        1   29    1                  0                   0             0   \n",
       "1        2   36    0                  0                   0             0   \n",
       "2        3   37    1                  0                   0             0   \n",
       "3        4   37    0                  0                   0             0   \n",
       "4        5   38    0                  0                   0             0   \n",
       "..     ...  ...  ...                ...                 ...           ...   \n",
       "995    996   72    1                  0                   0             0   \n",
       "996    997   72    1                  6                   6             1   \n",
       "997    998   74    0                  5                   7             1   \n",
       "998    999   76    1                  7                   0             0   \n",
       "999   1000   85    1                  6                   8             1   \n",
       "\n",
       "        avg  \n",
       "0    114.30  \n",
       "1     94.00  \n",
       "2     81.00  \n",
       "3    100.33  \n",
       "4     99.80  \n",
       "..      ...  \n",
       "995   68.30  \n",
       "996   70.00  \n",
       "997   62.53  \n",
       "998   61.83  \n",
       "999   63.00  \n",
       "\n",
       "[1000 rows x 7 columns]"
      ]
     },
     "execution_count": 11,
     "metadata": {},
     "output_type": "execute_result"
    }
   ],
   "source": [
    "df"
   ]
  },
  {
   "cell_type": "code",
   "execution_count": 12,
   "id": "d9aef112",
   "metadata": {},
   "outputs": [],
   "source": [
    "from sklearn.ensemble import RandomForestClassifier  \n",
    "from sklearn.metrics import accuracy_score\n",
    "from sklearn.model_selection import train_test_split\n"
   ]
  },
  {
   "cell_type": "code",
   "execution_count": 13,
   "id": "05838167",
   "metadata": {},
   "outputs": [],
   "source": [
    "classifier= RandomForestClassifier(n_estimators= 10, criterion=\"entropy\")"
   ]
  },
  {
   "cell_type": "code",
   "execution_count": 14,
   "id": "705658aa",
   "metadata": {},
   "outputs": [],
   "source": [
    "A=df.drop(['avg','SI.NO'],axis=1)\n",
    "B=df['avg'].astype(int)"
   ]
  },
  {
   "cell_type": "code",
   "execution_count": 15,
   "id": "7e10f88e",
   "metadata": {},
   "outputs": [
    {
     "name": "stdout",
     "output_type": "stream",
     "text": [
      "     AGE  SEX  ASSO MEDICAL PROB  H/O INJURY/SURGERY  DRUG HISTORY\n",
      "0     29    1                  0                   0             0\n",
      "1     36    0                  0                   0             0\n",
      "2     37    1                  0                   0             0\n",
      "3     37    0                  0                   0             0\n",
      "4     38    0                  0                   0             0\n",
      "..   ...  ...                ...                 ...           ...\n",
      "995   72    1                  0                   0             0\n",
      "996   72    1                  6                   6             1\n",
      "997   74    0                  5                   7             1\n",
      "998   76    1                  7                   0             0\n",
      "999   85    1                  6                   8             1\n",
      "\n",
      "[1000 rows x 5 columns]\n"
     ]
    }
   ],
   "source": [
    "print(A)"
   ]
  },
  {
   "cell_type": "code",
   "execution_count": 16,
   "id": "c37cdfb5",
   "metadata": {},
   "outputs": [
    {
     "name": "stdout",
     "output_type": "stream",
     "text": [
      "0      114\n",
      "1       94\n",
      "2       81\n",
      "3      100\n",
      "4       99\n",
      "      ... \n",
      "995     68\n",
      "996     70\n",
      "997     62\n",
      "998     61\n",
      "999     63\n",
      "Name: avg, Length: 1000, dtype: int32\n"
     ]
    }
   ],
   "source": [
    "print(B)"
   ]
  },
  {
   "cell_type": "code",
   "execution_count": 17,
   "id": "cd0a6d0c",
   "metadata": {},
   "outputs": [],
   "source": [
    "Atrain,Atest,Btrain,Btest=train_test_split(A,B,random_state=1,test_size=0.3)"
   ]
  },
  {
   "cell_type": "code",
   "execution_count": 18,
   "id": "cdbc53ea",
   "metadata": {},
   "outputs": [
    {
     "data": {
      "text/plain": [
       "<bound method DataFrame.count of      AGE  SEX  ASSO MEDICAL PROB  H/O INJURY/SURGERY  DRUG HISTORY\n",
       "731   62    0                  3                   3             1\n",
       "716   52    0                  2                   0             0\n",
       "640   68    1                  0                   5             2\n",
       "804   38    0                  0                   0             0\n",
       "737   67    1                  1                   0             1\n",
       "..   ...  ...                ...                 ...           ...\n",
       "767   52    0                  0                   0             0\n",
       "72    56    0                  0                   0             0\n",
       "908   42    0                  0                   0             0\n",
       "235   66    0                  5                   0             0\n",
       "37    67    1                  1                   0             1\n",
       "\n",
       "[700 rows x 5 columns]>"
      ]
     },
     "execution_count": 18,
     "metadata": {},
     "output_type": "execute_result"
    }
   ],
   "source": [
    "Atrain.count"
   ]
  },
  {
   "cell_type": "code",
   "execution_count": 19,
   "id": "477b66a6",
   "metadata": {},
   "outputs": [
    {
     "data": {
      "text/plain": [
       "<bound method Series.count of 731    75\n",
       "716    84\n",
       "640    62\n",
       "804    99\n",
       "737    69\n",
       "       ..\n",
       "767    88\n",
       "72     77\n",
       "908    88\n",
       "235    68\n",
       "37     69\n",
       "Name: avg, Length: 700, dtype: int32>"
      ]
     },
     "execution_count": 19,
     "metadata": {},
     "output_type": "execute_result"
    }
   ],
   "source": [
    "Btrain.count"
   ]
  },
  {
   "cell_type": "code",
   "execution_count": 20,
   "id": "29b50b06",
   "metadata": {},
   "outputs": [
    {
     "data": {
      "text/plain": [
       "RandomForestClassifier(criterion='entropy', n_estimators=10)"
      ]
     },
     "execution_count": 20,
     "metadata": {},
     "output_type": "execute_result"
    }
   ],
   "source": [
    "classifier.fit(Atrain,Btrain)"
   ]
  },
  {
   "cell_type": "code",
   "execution_count": 21,
   "id": "1fddfe05",
   "metadata": {},
   "outputs": [],
   "source": [
    "Bpred= classifier.predict(Atest)"
   ]
  },
  {
   "cell_type": "code",
   "execution_count": 22,
   "id": "a1258dfb",
   "metadata": {},
   "outputs": [
    {
     "data": {
      "text/plain": [
       "array([ 98,  80,  81,  80,  75,  69,  84,  89,  80,  63,  70,  75,  80,\n",
       "        68,  77,  64,  99,  99, 114,  70,  81,  77,  61,  81,  64,  78,\n",
       "        88,  62,  61,  72,  89,  80,  64,  64,  99,  72,  70,  77,  64,\n",
       "        91,  77,  70,  62,  94,  64,  70,  69,  70, 100,  68,  85,  71,\n",
       "        61,  68,  61,  99,  68,  70,  69,  68,  98,  67,  68,  71,  77,\n",
       "        84,  91,  84,  70,  80,  91,  78,  70,  91,  98,  80,  70,  67,\n",
       "        75,  67,  99,  75,  99,  98,  94,  75,  85,  65,  77,  70,  99,\n",
       "        61,  80,  99,  91,  77,  91,  65,  88,  99,  68,  85,  88,  99,\n",
       "        70,  72,  80,  67,  69,  64,  69,  68, 114,  91,  80,  72,  88,\n",
       "        63,  78,  64,  66,  88, 100,  64,  69,  64,  63,  70,  72,  75,\n",
       "        94,  61,  91,  81,  62,  89,  81,  98,  88,  78,  77,  80,  67,\n",
       "        68,  88,  91,  84,  84,  99,  81,  99,  78,  88,  75,  99,  81,\n",
       "        99,  94,  71,  70,  91,  99,  72,  67,  69,  77,  64,  62,  62,\n",
       "        68,  81,  75,  71,  65,  70,  94,  69,  84,  77,  80,  84, 114,\n",
       "        64,  77,  75,  91, 114,  77,  69,  64,  63,  81,  64,  71,  72,\n",
       "        66,  72, 114,  88,  98,  70,  64,  70,  62,  77,  69,  78,  84,\n",
       "        62,  81,  72,  99,  68,  69,  77,  99,  99,  70,  68,  89,  91,\n",
       "        75,  94,  78,  64,  88,  98,  62,  67,  99,  63, 114,  64,  72,\n",
       "       100,  70,  64,  66,  75,  84,  85,  68,  78,  63,  89,  68,  62,\n",
       "        61,  68,  80,  61,  89,  80,  88,  70,  70,  99,  99,  65,  61,\n",
       "        77,  69,  69,  84,  77,  65,  70,  81,  80,  99,  88,  77,  75,\n",
       "        78, 114,  81,  94,  63,  65,  61,  94,  77,  72,  80,  72,  80,\n",
       "        70,  89,  68,  66,  70,  68,  69,  70,  63,  91,  80,  88,  62,\n",
       "        63])"
      ]
     },
     "execution_count": 22,
     "metadata": {},
     "output_type": "execute_result"
    }
   ],
   "source": [
    "Bpred"
   ]
  },
  {
   "cell_type": "code",
   "execution_count": 23,
   "id": "e56d9985",
   "metadata": {},
   "outputs": [
    {
     "data": {
      "text/plain": [
       "0.9433333333333334"
      ]
     },
     "execution_count": 23,
     "metadata": {},
     "output_type": "execute_result"
    }
   ],
   "source": [
    "accuracy_score(Btest,Bpred)"
   ]
  },
  {
   "cell_type": "code",
   "execution_count": 24,
   "id": "15a20143",
   "metadata": {},
   "outputs": [],
   "source": [
    "Age=39\n",
    "SEX=0\n",
    "Prob=1\n",
    "INJURY=1\n",
    "DRUG=1"
   ]
  },
  {
   "cell_type": "code",
   "execution_count": 25,
   "id": "2bdb746e",
   "metadata": {},
   "outputs": [],
   "source": [
    "test=[[Age,SEX,Prob,INJURY,DRUG]]"
   ]
  },
  {
   "cell_type": "code",
   "execution_count": 26,
   "id": "91f1ad77",
   "metadata": {},
   "outputs": [],
   "source": [
    "def give_pred(test):\n",
    "    prediction=classifier.predict(test)\n",
    "    print(prediction)\n",
    "    if prediction > 100 :\n",
    "      return 'Osteoporotic'\n",
    "    elif prediction > 60 and prediction < 100 :\n",
    "      return 'Osteopenia'\n",
    "    elif prediction < 60:\n",
    "      return 'Normal'"
   ]
  },
  {
   "cell_type": "code",
   "execution_count": 27,
   "id": "74460ed5",
   "metadata": {},
   "outputs": [
    {
     "name": "stdout",
     "output_type": "stream",
     "text": [
      "[91]\n",
      "Osteopenia\n"
     ]
    },
    {
     "name": "stderr",
     "output_type": "stream",
     "text": [
      "C:\\Users\\princ\\anaconda3\\lib\\site-packages\\sklearn\\base.py:450: UserWarning: X does not have valid feature names, but RandomForestClassifier was fitted with feature names\n",
      "  warnings.warn(\n"
     ]
    }
   ],
   "source": [
    "print(give_pred(test))"
   ]
  },
  {
   "cell_type": "code",
   "execution_count": 28,
   "id": "c16667f4",
   "metadata": {},
   "outputs": [],
   "source": [
    "import pickle\n",
    "pickle.dump(classifier, open('model.pkl','wb'))\n",
    "\n",
    "model = pickle.load(open('model.pkl','rb'))"
   ]
  },
  {
   "cell_type": "code",
   "execution_count": null,
   "id": "311c13c5",
   "metadata": {},
   "outputs": [],
   "source": []
  },
  {
   "cell_type": "code",
   "execution_count": null,
   "id": "55aeeb7f",
   "metadata": {},
   "outputs": [],
   "source": []
  },
  {
   "cell_type": "code",
   "execution_count": null,
   "id": "df9d4e7f",
   "metadata": {},
   "outputs": [],
   "source": []
  },
  {
   "cell_type": "code",
   "execution_count": null,
   "id": "b9adb0cf",
   "metadata": {},
   "outputs": [],
   "source": []
  }
 ],
 "metadata": {
  "kernelspec": {
   "display_name": "Python 3 (ipykernel)",
   "language": "python",
   "name": "python3"
  },
  "language_info": {
   "codemirror_mode": {
    "name": "ipython",
    "version": 3
   },
   "file_extension": ".py",
   "mimetype": "text/x-python",
   "name": "python",
   "nbconvert_exporter": "python",
   "pygments_lexer": "ipython3",
   "version": "3.9.13"
  }
 },
 "nbformat": 4,
 "nbformat_minor": 5
}
